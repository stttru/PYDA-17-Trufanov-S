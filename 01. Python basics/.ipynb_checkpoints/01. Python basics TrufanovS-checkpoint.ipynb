{
 "cells": [
  {
   "cell_type": "markdown",
   "metadata": {},
   "source": [
    "# Задание 1"
   ]
  },
  {
   "cell_type": "code",
   "execution_count": 211,
   "metadata": {},
   "outputs": [
    {
     "name": "stdout",
     "output_type": "stream",
     "text": [
      "Длинна фразы 1 - 61 символа\n",
      "Длинна фразы 2 - 62 символа\n",
      "Фраза 2 длиннее фразы 1\n"
     ]
    }
   ],
   "source": [
    "phrase_1 = '640Кб должно хватить для любых задач. Билл Гейтс (по легенде)'\n",
    "phrase_2 = 'Насколько проще было бы писать программы, если бы не заказчики'\n",
    "\n",
    "dlina1 = len(phrase_1)\n",
    "dlina2 = len(phrase_2)\n",
    "\n",
    "print('Длинна фразы 1 -', dlina1, \"символа\")\n",
    "print('Длинна фразы 2 -', dlina2, \"символа\")\n",
    "\n",
    "if dlina1 > dlina2:\n",
    "    print(\"Фраза 1 длиннее фразы 2\")\n",
    "elif dlina1 < dlina2:\n",
    "    print(\"Фраза 2 длиннее фразы 1\")\n",
    "else:\n",
    "    print(\"Фразы равной длины\")\n"
   ]
  },
  {
   "cell_type": "markdown",
   "metadata": {},
   "source": [
    "# Задание 2"
   ]
  },
  {
   "cell_type": "code",
   "execution_count": 174,
   "metadata": {},
   "outputs": [
    {
     "name": "stdout",
     "output_type": "stream",
     "text": [
      "Введите год:2021\n",
      "Обычный год\n"
     ]
    }
   ],
   "source": [
    "year=int(input(\"Введите год:\"))\n",
    "\n",
    "if year % 4 != 0 or (year % 100 == 0 and year % 400 != 0):\n",
    "    print(\"Обычный год\")\n",
    "else:\n",
    "    print(\"Високосный год\")"
   ]
  },
  {
   "cell_type": "markdown",
   "metadata": {},
   "source": [
    "# Задание 3"
   ]
  },
  {
   "cell_type": "code",
   "execution_count": 5,
   "metadata": {
    "scrolled": true
   },
   "outputs": [
    {
     "name": "stdout",
     "output_type": "stream",
     "text": [
      "Введите день рождения:25\n",
      "Введите месяц рождения:Мая\n",
      "Знак зодиака:Близнецы\n"
     ]
    }
   ],
   "source": [
    "date=int(input(\"Введите день рождения:\"))\n",
    "\n",
    "while True:\n",
    "    month=str(input(\"Введите месяц рождения:\"))\n",
    "    if month == \"Января\": \n",
    "        month = 1 \n",
    "        break\n",
    "    elif month == \"Февраля\": \n",
    "        month = 2\n",
    "        break\n",
    "    elif month == \"Марта\": \n",
    "        month = 3\n",
    "        break\n",
    "    elif month == \"Апреля\": \n",
    "        month = 4\n",
    "        break\n",
    "    elif month == \"Мая\": \n",
    "        month = 5\n",
    "        break\n",
    "    elif month == \"Июня\": \n",
    "        month = 6\n",
    "        break\n",
    "    elif month == \"Июля\": \n",
    "        month = 7\n",
    "        break\n",
    "    elif month == \"Августа\": \n",
    "        month = 8\n",
    "        break\n",
    "    elif month == \"Сентября\": \n",
    "        month = 9\n",
    "        break\n",
    "    elif month == \"Октября\": \n",
    "        month = 10\n",
    "        break\n",
    "    elif month == \"Ноября\": \n",
    "        month = 11\n",
    "        break\n",
    "    elif month == \"Декабря\": \n",
    "        month = 12\n",
    "        break\n",
    "    else: print(\"Месяц введен некорректно, повторите ввод в формате - Января\")\n",
    "\n",
    "\n",
    "if (date>=21 and date<=31 and month==3) or( month==4 and date>=1 and date<=19):\n",
    "    print(\"Знак зодиака:Овен\")\n",
    "elif (date>=20 and date<=30 and month==4) or( month==5 and date>=1 and date<=20):\n",
    "    print(\"Знак зодиака:Телец\")\n",
    "elif (date>=21 and date<=31 and month==5) or( month==6 and date>=1 and date<=21):\n",
    "    print(\"Знак зодиака:Близнецы\")\n",
    "elif (date>=22 and date<=30 and month==6) or( month==7 and date>=1 and date<=22):\n",
    "    print(\"Знак зодиака:Рак\")\n",
    "elif (date>=23 and date<=31 and month==7) or( month==8 and date>=1 and date<=22):\n",
    "    print(\"Знак зодиака:Лев\")\n",
    "elif (date>=23 and date<=31 and month==8) or( month==9 and date>=1 and date<=22):\n",
    "    print(\"Знак зодиака:Дева\")\n",
    "elif (date>=23 and date<=30 and month==9) or( month==10 and date>=1 and date<=23):\n",
    "    print(\"Знак зодиака:Весы\")\n",
    "elif (date>=24 and date<=31 and month==10) or( month==11 and date>=1 and date<=22):\n",
    "    print(\"Знак зодиака:Скорпион\")\n",
    "elif (date>=23 and date<=30 and month==11) or( month==12 and date>=1 and date<=21):\n",
    "    print(\"Знак зодиака:Стрелец\")\n",
    "elif (date>=22 and date<=31 and month==12) or( month==1 and date>=1 and date<=20):\n",
    "    print(\"Знак зодиака:Козерог\")\n",
    "elif (date>=21 and date<=31 and month==1) or( month==2 and date>=1 and date<=18):\n",
    "    print(\"Знак зодиака:Водолей\")\n",
    "elif (date>=19 and date<=29 and month==2) or( month==3 and date>=1 and date<=20):\n",
    "    print(\"Знак зодиака:Рыбы\")"
   ]
  },
  {
   "cell_type": "markdown",
   "metadata": {},
   "source": [
    "# Задание 4"
   ]
  },
  {
   "cell_type": "code",
   "execution_count": 2,
   "metadata": {},
   "outputs": [
    {
     "name": "stdout",
     "output_type": "stream",
     "text": [
      "Введите ширину товара в см:12\n",
      "Введите длину товара в см:12\n",
      "Введите высоту товара в см:12\n",
      "Коробка №1\n"
     ]
    }
   ],
   "source": [
    "w=int(input(\"Введите ширину товара в см:\"))\n",
    "l=int(input(\"Введите длину товара в см:\"))\n",
    "h=int(input(\"Введите высоту товара в см:\"))\n",
    "\n",
    "if w < 15 and l < 15 and h < 15:\n",
    "    print(\"Коробка №1\")\n",
    "elif l > 200:\n",
    "    print(\"Упаковка для лыж\")\n",
    "elif 15 < w < 50 or 15 < l < 50 or 15 < h < 50:\n",
    "    print(\"Коробка №2\")\n",
    "else:\n",
    "    print(\"Стандартная коробка №3\")\n",
    "    "
   ]
  }
 ],
 "metadata": {
  "kernelspec": {
   "display_name": "Python 3",
   "language": "python",
   "name": "python3"
  },
  "language_info": {
   "codemirror_mode": {
    "name": "ipython",
    "version": 3
   },
   "file_extension": ".py",
   "mimetype": "text/x-python",
   "name": "python",
   "nbconvert_exporter": "python",
   "pygments_lexer": "ipython3",
   "version": "3.8.5"
  }
 },
 "nbformat": 4,
 "nbformat_minor": 2
}
