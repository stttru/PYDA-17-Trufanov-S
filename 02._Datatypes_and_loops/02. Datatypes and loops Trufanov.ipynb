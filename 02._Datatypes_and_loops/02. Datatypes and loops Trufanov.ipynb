{
 "cells": [
  {
   "cell_type": "markdown",
   "metadata": {},
   "source": [
    "# Задание 1"
   ]
  },
  {
   "cell_type": "code",
   "execution_count": 82,
   "metadata": {},
   "outputs": [
    {
     "name": "stdout",
     "output_type": "stream",
     "text": [
      "Длина фразы 9 символов\n",
      "Число символов нечетное, средняя буква:\n",
      "r\n"
     ]
    }
   ],
   "source": [
    "phrase = \"programmu\"\n",
    "print(\"Длина фразы \" + str(len(phrase)) + \" символов\")\n",
    "\n",
    "index = len(phrase) / 2\n",
    "\n",
    "if len(phrase) % 2 == 0:\n",
    "    print(\"Число символов четное, две средних буквы:\")\n",
    "    letter = phrase[int(index) - 1] + phrase[int(index)]\n",
    "    print(letter)\n",
    "else:\n",
    "    print(\"Число символов нечетное, средняя буква:\")\n",
    "    print(phrase[int(index)])\n"
   ]
  },
  {
   "cell_type": "code",
   "execution_count": null,
   "metadata": {},
   "outputs": [],
   "source": []
  }
 ],
 "metadata": {
  "kernelspec": {
   "display_name": "Python 3",
   "language": "python",
   "name": "python3"
  },
  "language_info": {
   "codemirror_mode": {
    "name": "ipython",
    "version": 3
   },
   "file_extension": ".py",
   "mimetype": "text/x-python",
   "name": "python",
   "nbconvert_exporter": "python",
   "pygments_lexer": "ipython3",
   "version": "3.8.5"
  }
 },
 "nbformat": 4,
 "nbformat_minor": 2
}
