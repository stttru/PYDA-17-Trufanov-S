{
 "cells": [
  {
   "cell_type": "markdown",
   "metadata": {},
   "source": [
    "# Задание 1"
   ]
  },
  {
   "cell_type": "code",
   "execution_count": 82,
   "metadata": {},
   "outputs": [
    {
     "name": "stdout",
     "output_type": "stream",
     "text": [
      "Длина фразы 9 символов\n",
      "Число символов нечетное, средняя буква:\n",
      "r\n"
     ]
    }
   ],
   "source": [
    "phrase = \"programmu\"\n",
    "print(\"Длина фразы \" + str(len(phrase)) + \" символов\")\n",
    "\n",
    "index = len(phrase) / 2\n",
    "\n",
    "if len(phrase) % 2 == 0:\n",
    "    print(\"Число символов четное, две средних буквы:\")\n",
    "    letter = phrase[int(index) - 1] + phrase[int(index)]\n",
    "    print(letter)\n",
    "else:\n",
    "    print(\"Число символов нечетное, средняя буква:\")\n",
    "    print(phrase[int(index)])\n"
   ]
  },
  {
   "cell_type": "markdown",
   "metadata": {},
   "source": [
    "# Задание 2"
   ]
  },
  {
   "cell_type": "code",
   "execution_count": 134,
   "metadata": {},
   "outputs": [
    {
     "name": "stdout",
     "output_type": "stream",
     "text": [
      "Введите число:1\n",
      "Введите число:2\n",
      "Введите число:3\n",
      "Введите число:5\n",
      "Введите число:7\n",
      "Введите число:9\n",
      "Введите число:0\n",
      "Результат:  27\n"
     ]
    }
   ],
   "source": [
    "y = 0\n",
    "while True:\n",
    "    x = int(input(\"Введите число:\"))\n",
    "    y = y + x\n",
    "    if x == 0: \n",
    "        break\n",
    "print(\"Результат: \", y)"
   ]
  },
  {
   "cell_type": "markdown",
   "metadata": {},
   "source": [
    "# Задание 3"
   ]
  },
  {
   "cell_type": "code",
   "execution_count": 130,
   "metadata": {},
   "outputs": [
    {
     "name": "stdout",
     "output_type": "stream",
     "text": [
      "Идеальные пары:\n",
      "Alex и Emma\n",
      "Arthur и Kate\n",
      "John и Kira\n",
      "Peter и Liza\n",
      "Richard и Trisha\n"
     ]
    }
   ],
   "source": [
    "boys = ['Peter', 'Alex', 'John', 'Arthur', 'Richard']\n",
    "girls = ['Kate', 'Liza', 'Kira', 'Emma', 'Trisha']\n",
    "\n",
    "\n",
    "names = dict(zip(sorted(boys), sorted(girls)))\n",
    "\n",
    "if len(boys) == len(girls):\n",
    "    print(\"Идеальные пары:\") \n",
    "    for boy, girl in names.items():\n",
    "        print(boy, \"и\", girl)\n",
    "else:\n",
    "    print(\"Внимание, кто-то может остаться без пары!\")\n",
    "\n",
    "\n"
   ]
  },
  {
   "cell_type": "markdown",
   "metadata": {},
   "source": [
    "# Задание 4"
   ]
  },
  {
   "cell_type": "code",
   "execution_count": 131,
   "metadata": {},
   "outputs": [
    {
     "name": "stdout",
     "output_type": "stream",
     "text": [
      "Средняя температура в странах:\n",
      "Thailand - 23.9 C\n",
      "Germany - 13.8 C\n",
      "Russia - 3.7 C\n",
      "Poland - 12.0 C\n"
     ]
    }
   ],
   "source": [
    "countries_temperature = [\n",
    "['Thailand', [75.2, 77, 78.8, 73.4, 68, 75.2, 77]],\n",
    "['Germany', [57.2, 55.4, 59, 59, 53.6]],\n",
    "['Russia', [35.6, 37.4, 39.2, 41, 42.8, 39.2, 35.6]],\n",
    "['Poland', [50, 50, 53.6, 57.2, 55.4, 55.4]]\n",
    "]\n",
    "\n",
    "print('Средняя температура в странах:')\n",
    "\n",
    "for temp in countries_temperature:\n",
    "    avg_temp = sum(temp[1]) / len(temp[1])\n",
    "    print(f\"{temp[0]} - {round((avg_temp - 32) / 1.8, 1)} C\")"
   ]
  }
 ],
 "metadata": {
  "kernelspec": {
   "display_name": "Python 3",
   "language": "python",
   "name": "python3"
  },
  "language_info": {
   "codemirror_mode": {
    "name": "ipython",
    "version": 3
   },
   "file_extension": ".py",
   "mimetype": "text/x-python",
   "name": "python",
   "nbconvert_exporter": "python",
   "pygments_lexer": "ipython3",
   "version": "3.8.5"
  }
 },
 "nbformat": 4,
 "nbformat_minor": 2
}
