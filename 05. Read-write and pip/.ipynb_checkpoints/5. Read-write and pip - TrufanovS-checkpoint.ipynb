{
 "cells": [
  {
   "cell_type": "markdown",
   "metadata": {},
   "source": [
    "# Задание 1"
   ]
  },
  {
   "cell_type": "code",
   "execution_count": 1,
   "metadata": {},
   "outputs": [
    {
     "name": "stdout",
     "output_type": "stream",
     "text": [
      "Первые 10 пар словаря: \n",
      "\n",
      " {'1840e0b9d4': 'Продукты', '4e4f90fcfb': 'Электроника', 'afea8d72fc': 'Электроника', '373a6055fe': 'Бытовая техника', '9b2ab046f3': 'Электроника', '9f39d307c3': 'Электроника', '44edeffc91': 'Продукты', '704474fa2d': 'Продукты', '1de31be403': 'Бытовая техника', 'b71f36a5e4': 'Продукты'}\n"
     ]
    }
   ],
   "source": [
    "import json\n",
    "\n",
    "purchases = {}\n",
    "\n",
    "for i, line in enumerate(open('purchase_log.txt', 'r', encoding='utf-8')):\n",
    "    if i > 0:\n",
    "        dict_ = json.loads(line.strip())\n",
    "        purchases[dict_['user_id']] = dict_['category']\n",
    "    if i == 10:\n",
    "        print(f'Первые {i} пар словаря: \\n\\n {purchases}')\n",
    "        \n"
   ]
  },
  {
   "cell_type": "markdown",
   "metadata": {},
   "source": [
    "# Задание 2"
   ]
  },
  {
   "cell_type": "code",
   "execution_count": 15,
   "metadata": {},
   "outputs": [
    {
     "name": "stderr",
     "output_type": "stream",
     "text": [
      "200000it [00:05, 38595.14it/s]"
     ]
    },
    {
     "name": "stdout",
     "output_type": "stream",
     "text": [
      "Визиты в которых были покупки с указанием категории записаны в файл funnel.csv\n"
     ]
    },
    {
     "name": "stderr",
     "output_type": "stream",
     "text": [
      "\n"
     ]
    }
   ],
   "source": [
    "import json\n",
    "from tqdm import tqdm\n",
    "\n",
    "purchases = {}\n",
    "\n",
    "for line in open('purchase_log.txt', 'r'):\n",
    "    dict_ = json.loads(line.strip())\n",
    "    purchases[dict_['user_id']] = dict_['category']\n",
    "    \n",
    "with open('funnel.csv', 'w') as funnel_file: #Создаем файл funnel.csv\n",
    "    with open('visit_log.csv', 'r') as visit_file:\n",
    "        for line in tqdm(visit_file):\n",
    "            user_id = line.split(',')[0]\n",
    "            if user_id in purchases.keys():\n",
    "                with open('funnel.csv', 'a') as funnel_file: #Записываем в файл funnel.csv если находим совпадение\n",
    "                    funnel_file.write(f'{line.strip()},{purchases[user_id]} \\n')\n",
    "\n",
    "print(f'Визиты в которых были покупки с указанием категории записаны в файл funnel.csv')"
   ]
  },
  {
   "cell_type": "code",
   "execution_count": null,
   "metadata": {},
   "outputs": [],
   "source": []
  }
 ],
 "metadata": {
  "kernelspec": {
   "display_name": "Python 3",
   "language": "python",
   "name": "python3"
  },
  "language_info": {
   "codemirror_mode": {
    "name": "ipython",
    "version": 3
   },
   "file_extension": ".py",
   "mimetype": "text/x-python",
   "name": "python",
   "nbconvert_exporter": "python",
   "pygments_lexer": "ipython3",
   "version": "3.8.5"
  }
 },
 "nbformat": 4,
 "nbformat_minor": 2
}
