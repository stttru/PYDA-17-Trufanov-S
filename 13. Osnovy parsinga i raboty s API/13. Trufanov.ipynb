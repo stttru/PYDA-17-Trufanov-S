{
 "cells": [
  {
   "cell_type": "markdown",
   "metadata": {},
   "source": [
    "# Домашнее задание к лекции \"Основы веб-скрапинга и работы с API\""
   ]
  },
  {
   "cell_type": "markdown",
   "metadata": {},
   "source": [
    "## Задание 1. "
   ]
  },
  {
   "cell_type": "code",
   "execution_count": 19,
   "metadata": {},
   "outputs": [],
   "source": [
    "import requests\n",
    "import time\n",
    "from bs4 import BeautifulSoup\n",
    "import pandas as pd\n",
    "\n",
    "URL = 'https://habr.com/ru/all/'\n",
    "res = requests.get(URL)\n",
    "\n",
    "KEYWORDS = ['python', 'работа', 'игры']\n",
    "\n",
    "soup = BeautifulSoup(res.text, 'html.parser')\n",
    "\n",
    "data_dict = {\n",
    "    'date': [],\n",
    "    'title': [],\n",
    "    'link': [],\n",
    "}"
   ]
  },
  {
   "cell_type": "code",
   "execution_count": 20,
   "metadata": {},
   "outputs": [],
   "source": [
    "def get_url_data(url, page):\n",
    "    if page != 1:\n",
    "        url = url + '/page' + str(page)\n",
    "    res = requests.get(url)\n",
    "    time.sleep(0.3)\n",
    "    soup = BeautifulSoup(res.text, 'html.parser')\n",
    "    posts = soup.find_all('article', class_='post post_preview')\n",
    "    for post in posts:\n",
    "        hubs = post.find_all('a', class_='post__title_link')\n",
    "        post_time = post.find('span', class_='post__time').text\n",
    "        for hub in hubs:\n",
    "            hub_lower = hub.text.lower()\n",
    "            for keyword in KEYWORDS:\n",
    "                if keyword in hub_lower:\n",
    "                    title_element = post.find('a', class_='post__title_link')\n",
    "                    return post_time, title_element.text, title_element.attrs.get('href')"
   ]
  },
  {
   "cell_type": "code",
   "execution_count": 22,
   "metadata": {},
   "outputs": [
    {
     "name": "stdout",
     "output_type": "stream",
     "text": [
      "Нашлось на станице новостей №1\n",
      "Нашлось на станице новостей №2\n",
      "Нашлось на станице новостей №4\n",
      "Нашлось на станице новостей №5\n"
     ]
    }
   ],
   "source": [
    "for page in range(1,10):\n",
    "    if get_url_data(URL, page):\n",
    "        print(f'Нашлось на станице новостей №{page}')\n",
    "        date, title, link = get_url_data(URL, page)\n",
    "        data_dict['date'].append(date)\n",
    "        data_dict['title'].append(title)\n",
    "        data_dict['link'].append(link)"
   ]
  },
  {
   "cell_type": "code",
   "execution_count": 23,
   "metadata": {},
   "outputs": [
    {
     "data": {
      "text/html": [
       "<div>\n",
       "<style scoped>\n",
       "    .dataframe tbody tr th:only-of-type {\n",
       "        vertical-align: middle;\n",
       "    }\n",
       "\n",
       "    .dataframe tbody tr th {\n",
       "        vertical-align: top;\n",
       "    }\n",
       "\n",
       "    .dataframe thead th {\n",
       "        text-align: right;\n",
       "    }\n",
       "</style>\n",
       "<table border=\"1\" class=\"dataframe\">\n",
       "  <thead>\n",
       "    <tr style=\"text-align: right;\">\n",
       "      <th></th>\n",
       "      <th>date</th>\n",
       "      <th>title</th>\n",
       "      <th>link</th>\n",
       "    </tr>\n",
       "  </thead>\n",
       "  <tbody>\n",
       "    <tr>\n",
       "      <th>0</th>\n",
       "      <td>сегодня в 18:44</td>\n",
       "      <td>Создание арт-объектов, игр и много чего ещё с ...</td>\n",
       "      <td>https://habr.com/ru/company/skillfactory/blog/...</td>\n",
       "    </tr>\n",
       "    <tr>\n",
       "      <th>1</th>\n",
       "      <td>сегодня в 14:58</td>\n",
       "      <td>Как мы визуальный конструктор обучения цифровы...</td>\n",
       "      <td>https://habr.com/ru/company/neuronet/blog/548934/</td>\n",
       "    </tr>\n",
       "    <tr>\n",
       "      <th>2</th>\n",
       "      <td>сегодня в 10:01</td>\n",
       "      <td>Как этот год работала наша внутренняя служба г...</td>\n",
       "      <td>https://habr.com/ru/company/croc/blog/548768/</td>\n",
       "    </tr>\n",
       "    <tr>\n",
       "      <th>3</th>\n",
       "      <td>вчера в 18:00</td>\n",
       "      <td>Работаем с lightsquid или как сделать индивиду...</td>\n",
       "      <td>https://habr.com/ru/post/548782/</td>\n",
       "    </tr>\n",
       "    <tr>\n",
       "      <th>4</th>\n",
       "      <td>сегодня в 18:44</td>\n",
       "      <td>Создание арт-объектов, игр и много чего ещё с ...</td>\n",
       "      <td>https://habr.com/ru/company/skillfactory/blog/...</td>\n",
       "    </tr>\n",
       "    <tr>\n",
       "      <th>5</th>\n",
       "      <td>сегодня в 14:58</td>\n",
       "      <td>Как мы визуальный конструктор обучения цифровы...</td>\n",
       "      <td>https://habr.com/ru/company/neuronet/blog/548934/</td>\n",
       "    </tr>\n",
       "    <tr>\n",
       "      <th>6</th>\n",
       "      <td>сегодня в 10:01</td>\n",
       "      <td>Как этот год работала наша внутренняя служба г...</td>\n",
       "      <td>https://habr.com/ru/company/croc/blog/548768/</td>\n",
       "    </tr>\n",
       "    <tr>\n",
       "      <th>7</th>\n",
       "      <td>вчера в 18:00</td>\n",
       "      <td>Работаем с lightsquid или как сделать индивиду...</td>\n",
       "      <td>https://habr.com/ru/post/548782/</td>\n",
       "    </tr>\n",
       "  </tbody>\n",
       "</table>\n",
       "</div>"
      ],
      "text/plain": [
       "              date                                              title  \\\n",
       "0  сегодня в 18:44  Создание арт-объектов, игр и много чего ещё с ...   \n",
       "1  сегодня в 14:58  Как мы визуальный конструктор обучения цифровы...   \n",
       "2  сегодня в 10:01  Как этот год работала наша внутренняя служба г...   \n",
       "3    вчера в 18:00  Работаем с lightsquid или как сделать индивиду...   \n",
       "4  сегодня в 18:44  Создание арт-объектов, игр и много чего ещё с ...   \n",
       "5  сегодня в 14:58  Как мы визуальный конструктор обучения цифровы...   \n",
       "6  сегодня в 10:01  Как этот год работала наша внутренняя служба г...   \n",
       "7    вчера в 18:00  Работаем с lightsquid или как сделать индивиду...   \n",
       "\n",
       "                                                link  \n",
       "0  https://habr.com/ru/company/skillfactory/blog/...  \n",
       "1  https://habr.com/ru/company/neuronet/blog/548934/  \n",
       "2      https://habr.com/ru/company/croc/blog/548768/  \n",
       "3                   https://habr.com/ru/post/548782/  \n",
       "4  https://habr.com/ru/company/skillfactory/blog/...  \n",
       "5  https://habr.com/ru/company/neuronet/blog/548934/  \n",
       "6      https://habr.com/ru/company/croc/blog/548768/  \n",
       "7                   https://habr.com/ru/post/548782/  "
      ]
     },
     "execution_count": 23,
     "metadata": {},
     "output_type": "execute_result"
    }
   ],
   "source": [
    "filtered_news = pd.DataFrame(data_dict)\n",
    "filtered_news"
   ]
  },
  {
   "cell_type": "markdown",
   "metadata": {},
   "source": [
    "## Задание 2."
   ]
  },
  {
   "cell_type": "code",
   "execution_count": 25,
   "metadata": {},
   "outputs": [
    {
     "data": {
      "text/plain": [
       "<Response [400]>"
      ]
     },
     "execution_count": 25,
     "metadata": {},
     "output_type": "execute_result"
    }
   ],
   "source": [
    "import json\n",
    "\n",
    "params = {\n",
    "        'emailAddresses': [\"yy@ya.ru\",\"xx@ya.ru\", \"12@wwwww.ru\"]\n",
    "    }\n",
    "\n",
    "URL = 'https://identityprotection.avast.com/v1/web/query/site-breaches/unauthorized-data'\n",
    "\n",
    "headers = {\n",
    "    'Host': 'identityprotection.avast.com',\n",
    "    'Connection': 'keep-alive',\n",
    "    'Content-Length': '34',\n",
    "    'sec-ch-ua': '\"Google Chrome\";v=\"87\", \" Not;A Brand\";v=\"99\", \"Chromium\";v=\"87\"',\n",
    "    'Accept': 'application/json, text/plain, */*',\n",
    "    'Vaar-Version': '0',\n",
    "    'sec-ch-ua-mobile': '?0',\n",
    "    'User-Agent': 'Mozilla/5.0 (Windows NT 10.0; Win64; x64) AppleWebKit/537.36 (KHTML, like Gecko) Chrome/87.0.4280.141 Safari/537.36',\n",
    "    'Vaar-Header-App-Product': 'hackcheck-web-avast',\n",
    "    'Content-Type': 'application/json;charset=UTF-8',\n",
    "    'Origin': 'https://www.avast.com',\n",
    "    'Sec-Fetch-Site': 'same-site',\n",
    "    'Sec-Fetch-Mode': 'cors',\n",
    "    'Sec-Fetch-Dest': 'empty',\n",
    "    'Referer': 'https://www.avast.com/',\n",
    "    'Accept-Encoding': 'gzip, deflate, br',\n",
    "    'Accept-Language': 'ru-RU,ru;q=0.9,en-US;q=0.8,en;q=0.7'\n",
    "}\n",
    "\n",
    "\n",
    "\n",
    "res = requests.post(URL, headers=headers, json=params)\n",
    "res"
   ]
  },
  {
   "cell_type": "code",
   "execution_count": 15,
   "metadata": {},
   "outputs": [],
   "source": []
  },
  {
   "cell_type": "code",
   "execution_count": 16,
   "metadata": {},
   "outputs": [],
   "source": []
  },
  {
   "cell_type": "code",
   "execution_count": 17,
   "metadata": {},
   "outputs": [
    {
     "data": {
      "text/plain": [
       "<Response [200]>"
      ]
     },
     "execution_count": 17,
     "metadata": {},
     "output_type": "execute_result"
    }
   ],
   "source": []
  }
 ],
 "metadata": {
  "kernelspec": {
   "display_name": "Python 3",
   "language": "python",
   "name": "python3"
  },
  "language_info": {
   "codemirror_mode": {
    "name": "ipython",
    "version": 3
   },
   "file_extension": ".py",
   "mimetype": "text/x-python",
   "name": "python",
   "nbconvert_exporter": "python",
   "pygments_lexer": "ipython3",
   "version": "3.8.5"
  }
 },
 "nbformat": 4,
 "nbformat_minor": 2
}
