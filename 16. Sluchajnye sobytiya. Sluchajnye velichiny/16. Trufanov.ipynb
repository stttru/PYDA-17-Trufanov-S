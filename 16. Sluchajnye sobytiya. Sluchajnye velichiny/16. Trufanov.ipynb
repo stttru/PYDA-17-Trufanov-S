{
 "cells": [
  {
   "cell_type": "markdown",
   "metadata": {},
   "source": [
    "# Домашнее задание к лекции «Случайные события. Случайные величины»"
   ]
  },
  {
   "cell_type": "code",
   "execution_count": 1,
   "metadata": {},
   "outputs": [],
   "source": [
    "import numpy as np"
   ]
  },
  {
   "cell_type": "code",
   "execution_count": 2,
   "metadata": {},
   "outputs": [
    {
     "name": "stdout",
     "output_type": "stream",
     "text": [
      "Игрок заплатил:  100000\n",
      "Игрок выиграл:  81990\n",
      "Игрок в минусе на:  18010\n",
      "Игрок теряет за одну игру: 0.1801\n"
     ]
    }
   ],
   "source": [
    "trials = 100000    # Количество попыток\n",
    "cost = 0          # Плата за игру\n",
    "prize = 0         # Выигрыш\n",
    "for i in range(trials):\n",
    "    x = np.random.randint(0, 1000)\n",
    "    cost += 1\n",
    "    if x == 777:\n",
    "        prize += 200\n",
    "    elif x == 999:\n",
    "        prize += 100\n",
    "    elif x == 555:\n",
    "        prize += 50\n",
    "    elif x == 333:\n",
    "        prize += 15\n",
    "    elif x == 111:\n",
    "        prize += 10\n",
    "    elif x%100 == 77:\n",
    "        prize += 5\n",
    "    elif x%10 == 7:\n",
    "        prize += 3\n",
    "    elif x%100 == 0:\n",
    "        prize += 2\n",
    "    elif x%10 == 0:\n",
    "        prize += 1\n",
    "print('Игрок заплатил: ', cost)\n",
    "print('Игрок выиграл: ', prize)\n",
    "print('Игрок в минусе на: ', cost - prize)\n",
    "print('Игрок теряет за одну игру:', (cost - prize)/trials)"
   ]
  },
  {
   "cell_type": "markdown",
   "metadata": {},
   "source": [
    "### Дополнительное задание повышенной сложности. \n",
    "Теоретически рассчитать средний выигрыш (проигрыш) и сравнить с результатами моделирования"
   ]
  },
  {
   "cell_type": "code",
   "execution_count": 3,
   "metadata": {},
   "outputs": [
    {
     "data": {
      "text/plain": [
       "9"
      ]
     },
     "execution_count": 3,
     "metadata": {},
     "output_type": "execute_result"
    }
   ],
   "source": [
    "# Количество чисел от 0 до 1000, оканчивающихся на 77, но не равных 777\n",
    "len([x for x in range(1000) if x%100 == 77 and x != 777])"
   ]
  },
  {
   "cell_type": "code",
   "execution_count": null,
   "metadata": {},
   "outputs": [],
   "source": [
    "# Количество чисел от 0 до 1000, оканчивающихся на 7 (но не 77) и неравных 777\n",
    "len([x for x in range(1000) if x%10 == 7 and x != 777 and x%100 != 77])"
   ]
  },
  {
   "cell_type": "markdown",
   "metadata": {},
   "source": [
    "Вероятность, что выпадает \n",
    "* 777 равна 1/1000 = 0,001\n",
    "* 999 равна 1/1000 = 0,001\n",
    "* 555 равна 1/1000 = 0,001\n",
    "* 333 равна 1/1000 = 0,001\n",
    "* 111 равна 1/1000 = 0,001\n",
    "* _77 равна 9/1000 = 0,009\n",
    "* __7 равна 90/1000 = 0,09\n",
    "* _00 равна 9/1000 = 0,009\n",
    "* __0 равна 90/1000 = 0,09"
   ]
  },
  {
   "cell_type": "code",
   "execution_count": null,
   "metadata": {},
   "outputs": [],
   "source": [
    "p = 0.001"
   ]
  },
  {
   "cell_type": "code",
   "execution_count": null,
   "metadata": {},
   "outputs": [],
   "source": [
    "teor_prize = 200*p + 100*p + 50*p + 15*p + 10*p + 5*0.009 + 3*0.09 + 2*0.009 + 1*0.09\n",
    "teor_prize "
   ]
  },
  {
   "cell_type": "markdown",
   "metadata": {},
   "source": [
    "Потратил 1 р, получил 0,798 р."
   ]
  },
  {
   "cell_type": "code",
   "execution_count": null,
   "metadata": {},
   "outputs": [],
   "source": [
    "print('Теоретический средний прогрыш', round(1 - teor_prize,3))"
   ]
  },
  {
   "cell_type": "markdown",
   "metadata": {},
   "source": [
    "#### Результат моделирования проигрыша в игре при большом количестве испытаний стремится к теоретическому среднему проигрышу равному 0,202"
   ]
  }
 ],
 "metadata": {
  "kernelspec": {
   "display_name": "Python 3",
   "language": "python",
   "name": "python3"
  },
  "language_info": {
   "codemirror_mode": {
    "name": "ipython",
    "version": 3
   },
   "file_extension": ".py",
   "mimetype": "text/x-python",
   "name": "python",
   "nbconvert_exporter": "python",
   "pygments_lexer": "ipython3",
   "version": "3.8.5"
  }
 },
 "nbformat": 4,
 "nbformat_minor": 2
}
