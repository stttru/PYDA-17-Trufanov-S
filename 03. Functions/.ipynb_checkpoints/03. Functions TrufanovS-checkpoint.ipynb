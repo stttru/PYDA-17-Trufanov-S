{
 "cells": [
  {
   "cell_type": "markdown",
   "metadata": {},
   "source": [
    "# Исходные данные"
   ]
  },
  {
   "cell_type": "code",
   "execution_count": null,
   "metadata": {},
   "outputs": [],
   "source": [
    "documents = [\n",
    " {'type': 'passport', 'number': '2207 876234', 'name': 'Василий Гупкин'},\n",
    " {'type': 'invoice', 'number': '11-2', 'name': 'Геннадий Покемонов'},\n",
    " {'type': 'insurance', 'number': '10006', 'name': 'Аристарх Павлов'}\n",
    "]\n",
    "\n",
    "directories = {\n",
    " '1': ['2207 876234', '11-2'],\n",
    " '2': ['10006'],\n",
    " '3': []\n",
    "}\n",
    "\n"
   ]
  },
  {
   "cell_type": "markdown",
   "metadata": {},
   "source": [
    "# Задание 1"
   ]
  },
  {
   "cell_type": "markdown",
   "metadata": {},
   "source": [
    "Пункт 1. Пользователь по команде \"p\" может узнать владельца документа по его номеру"
   ]
  },
  {
   "cell_type": "code",
   "execution_count": 9,
   "metadata": {},
   "outputs": [],
   "source": [
    "def document_owner(documents, document_number):    \n",
    "    for document in documents:\n",
    "        if document['number'] == document_number:\n",
    "            return document['name']\n",
    "    return('Документ не найден в базе')"
   ]
  },
  {
   "cell_type": "markdown",
   "metadata": {},
   "source": [
    "Пункт 2. Пользователь по команде \"s\" может по номеру документа узнать на какой полке он хранится"
   ]
  },
  {
   "cell_type": "code",
   "execution_count": null,
   "metadata": {},
   "outputs": [],
   "source": []
  },
  {
   "cell_type": "markdown",
   "metadata": {},
   "source": [
    "Пункт 3. Пользователь по команде \"l\" может увидеть полную информацию по всем документам"
   ]
  },
  {
   "cell_type": "code",
   "execution_count": null,
   "metadata": {},
   "outputs": [],
   "source": []
  },
  {
   "cell_type": "markdown",
   "metadata": {},
   "source": [
    "Пункт 4. Пользователь по команде \"ads\" может добавить новую полку"
   ]
  },
  {
   "cell_type": "code",
   "execution_count": null,
   "metadata": {},
   "outputs": [],
   "source": []
  },
  {
   "cell_type": "markdown",
   "metadata": {},
   "source": [
    "Пункт 5. Пользователь по команде \"ds\" может удалить существующую полку из данных (только если она пустая)"
   ]
  },
  {
   "cell_type": "code",
   "execution_count": null,
   "metadata": {},
   "outputs": [],
   "source": []
  },
  {
   "cell_type": "markdown",
   "metadata": {},
   "source": [
    "Блок запроса команды у пользователя"
   ]
  },
  {
   "cell_type": "code",
   "execution_count": null,
   "metadata": {},
   "outputs": [
    {
     "name": "stdout",
     "output_type": "stream",
     "text": [
      "Доступные команды:\n",
      "       \n",
      "        q - выход из программы.\n",
      "        p - узнать владельца документа по его номеру.\n",
      "        s - по номеру документа узнать на какой полке он хранится.\n",
      "        l - увидеть полную информацию по всем документам.\n",
      "        ads - добавить новую полку.\n",
      "        ds - удалить существующую полку из данных (только если она пустая)\n"
     ]
    }
   ],
   "source": [
    "print ('''Доступные команды:\n",
    "       \n",
    "        q - выход из программы.\n",
    "        p - узнать владельца документа по его номеру.\n",
    "        s - по номеру документа узнать на какой полке он хранится.\n",
    "        l - увидеть полную информацию по всем документам.\n",
    "        ads - добавить новую полку.\n",
    "        ds - удалить существующую полку из данных (только если она пустая)''')\n",
    "\n",
    "def main():\n",
    "    \n",
    "    while True:\n",
    "        user_input = input('Выберите команду : ')\n",
    "        if user_input == 'h':\n",
    "            print(main.__doc__)\n",
    "        if user_input == 'q':\n",
    "            break\n",
    "        if user_input == 'p':\n",
    "            document_number = input('Введите номер документа: ')\n",
    "            print(document_owner(documents, document_number))\n",
    "        if user_input == 's':\n",
    "            document_number = input('Введите номер документа: ')\n",
    "            shelf_number(directories, document_number)\n",
    "            if shelf_number(directories, document_number) is None:\n",
    "                print('Документ не найден в базе')\n",
    "            else:\n",
    "                print(f'Документ хранится на полке {shelf_number(directories, document_number)}')\n",
    "        if user_input == 'l':\n",
    "            full_information(documents)\n",
    "        if user_input == 'ads':\n",
    "            number_shelf = input('Введите номер полки: ')\n",
    "            print(new_shelf(directories, number_shelf))\n",
    "        if user_input == 'ds':\n",
    "            number_self = input('Введите номер полки: ')\n",
    "            print(delete_self(directories, number_self))\n",
    "main()"
   ]
  }
 ],
 "metadata": {
  "kernelspec": {
   "display_name": "Python 3",
   "language": "python",
   "name": "python3"
  },
  "language_info": {
   "codemirror_mode": {
    "name": "ipython",
    "version": 3
   },
   "file_extension": ".py",
   "mimetype": "text/x-python",
   "name": "python",
   "nbconvert_exporter": "python",
   "pygments_lexer": "ipython3",
   "version": "3.8.5"
  }
 },
 "nbformat": 4,
 "nbformat_minor": 2
}
